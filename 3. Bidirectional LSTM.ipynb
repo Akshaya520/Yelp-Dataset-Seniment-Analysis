{
 "cells": [
  {
   "cell_type": "code",
   "execution_count": 1,
   "metadata": {
    "execution": {
     "iopub.execute_input": "2022-04-26T16:48:07.392334Z",
     "iopub.status.busy": "2022-04-26T16:48:07.392001Z",
     "iopub.status.idle": "2022-04-26T16:48:08.357755Z",
     "shell.execute_reply": "2022-04-26T16:48:08.357027Z",
     "shell.execute_reply.started": "2022-04-26T16:48:07.392252Z"
    }
   },
   "outputs": [],
   "source": [
    "import pandas as pd\n",
    "import matplotlib.pyplot as plt\n",
    "import seaborn as sns\n",
    "import numpy as np\n",
    "import nltk\n",
    "from nltk.corpus import stopwords\n",
    "from wordcloud import WordCloud\n",
    "from nltk.stem import WordNetLemmatizer\n",
    "from sklearn.model_selection import train_test_split\n",
    "from sklearn.preprocessing import OneHotEncoder\n",
    "from keras.preprocessing.text import Tokenizer\n",
    "from sklearn.preprocessing import OneHotEncoder\n",
    "from tensorflow.keras.preprocessing.sequence import pad_sequences\n",
    "from tensorflow.keras.models import Sequential\n",
    "from tensorflow.keras.layers import Dense,Bidirectional,Dropout,RNN,GRUCell, LSTM, Flatten, Embedding\n",
    "from keras.preprocessing.sequence import pad_sequences\n",
    "import tensorflow as tf\n",
    "from sklearn.metrics import confusion_matrix\n",
    "from sklearn.metrics import *"
   ]
  },
  {
   "cell_type": "code",
   "execution_count": 2,
   "metadata": {
    "execution": {
     "iopub.execute_input": "2022-04-26T16:48:08.360549Z",
     "iopub.status.busy": "2022-04-26T16:48:08.359141Z",
     "iopub.status.idle": "2022-04-26T16:48:08.391133Z",
     "shell.execute_reply": "2022-04-26T16:48:08.390517Z",
     "shell.execute_reply.started": "2022-04-26T16:48:08.360512Z"
    }
   },
   "outputs": [],
   "source": [
    "yelp_data = pd.read_csv('../input/yelp-data-balanced-25/yelp_data_balanced_25.csv')\n",
    "yelp_data = yelp_data[yelp_data['target'] != \"Neutral\"]"
   ]
  },
  {
   "cell_type": "code",
   "execution_count": 3,
   "metadata": {
    "execution": {
     "iopub.execute_input": "2022-04-26T16:48:08.392597Z",
     "iopub.status.busy": "2022-04-26T16:48:08.392291Z",
     "iopub.status.idle": "2022-04-26T16:48:08.399434Z",
     "shell.execute_reply": "2022-04-26T16:48:08.398737Z",
     "shell.execute_reply.started": "2022-04-26T16:48:08.392554Z"
    }
   },
   "outputs": [],
   "source": [
    "yelp_data['stars'] = yelp_data.stars.astype(\"int\")"
   ]
  },
  {
   "cell_type": "code",
   "execution_count": 4,
   "metadata": {
    "execution": {
     "iopub.execute_input": "2022-04-26T16:48:08.401522Z",
     "iopub.status.busy": "2022-04-26T16:48:08.401214Z",
     "iopub.status.idle": "2022-04-26T16:48:08.408977Z",
     "shell.execute_reply": "2022-04-26T16:48:08.408331Z",
     "shell.execute_reply.started": "2022-04-26T16:48:08.401486Z"
    }
   },
   "outputs": [
    {
     "data": {
      "text/plain": [
       "(50000, 4)"
      ]
     },
     "execution_count": 4,
     "metadata": {},
     "output_type": "execute_result"
    }
   ],
   "source": [
    "yelp_data.shape"
   ]
  },
  {
   "cell_type": "code",
   "execution_count": 5,
   "metadata": {
    "execution": {
     "iopub.execute_input": "2022-04-26T16:48:08.410641Z",
     "iopub.status.busy": "2022-04-26T16:48:08.410259Z",
     "iopub.status.idle": "2022-04-26T16:48:08.425361Z",
     "shell.execute_reply": "2022-04-26T16:48:08.424751Z",
     "shell.execute_reply.started": "2022-04-26T16:48:08.410582Z"
    }
   },
   "outputs": [
    {
     "data": {
      "text/html": [
       "<div>\n",
       "<style scoped>\n",
       "    .dataframe tbody tr th:only-of-type {\n",
       "        vertical-align: middle;\n",
       "    }\n",
       "\n",
       "    .dataframe tbody tr th {\n",
       "        vertical-align: top;\n",
       "    }\n",
       "\n",
       "    .dataframe thead th {\n",
       "        text-align: right;\n",
       "    }\n",
       "</style>\n",
       "<table border=\"1\" class=\"dataframe\">\n",
       "  <thead>\n",
       "    <tr style=\"text-align: right;\">\n",
       "      <th></th>\n",
       "      <th>Unnamed: 0</th>\n",
       "      <th>stars</th>\n",
       "      <th>text</th>\n",
       "      <th>target</th>\n",
       "    </tr>\n",
       "  </thead>\n",
       "  <tbody>\n",
       "    <tr>\n",
       "      <th>0</th>\n",
       "      <td>0</td>\n",
       "      <td>5</td>\n",
       "      <td>Really enjoyed how clean the salon was. The na...</td>\n",
       "      <td>Positive</td>\n",
       "    </tr>\n",
       "    <tr>\n",
       "      <th>1</th>\n",
       "      <td>1</td>\n",
       "      <td>4</td>\n",
       "      <td>Cold War motif was not distracting. Kid and Fa...</td>\n",
       "      <td>Positive</td>\n",
       "    </tr>\n",
       "    <tr>\n",
       "      <th>2</th>\n",
       "      <td>2</td>\n",
       "      <td>5</td>\n",
       "      <td>I can't say enough good things about Purple Pu...</td>\n",
       "      <td>Positive</td>\n",
       "    </tr>\n",
       "    <tr>\n",
       "      <th>3</th>\n",
       "      <td>3</td>\n",
       "      <td>5</td>\n",
       "      <td>I will always go to Champions. The owner Migue...</td>\n",
       "      <td>Positive</td>\n",
       "    </tr>\n",
       "    <tr>\n",
       "      <th>4</th>\n",
       "      <td>4</td>\n",
       "      <td>4</td>\n",
       "      <td>Deceptively vast. My one-star deduction is pri...</td>\n",
       "      <td>Positive</td>\n",
       "    </tr>\n",
       "  </tbody>\n",
       "</table>\n",
       "</div>"
      ],
      "text/plain": [
       "   Unnamed: 0  stars                                               text  \\\n",
       "0           0      5  Really enjoyed how clean the salon was. The na...   \n",
       "1           1      4  Cold War motif was not distracting. Kid and Fa...   \n",
       "2           2      5  I can't say enough good things about Purple Pu...   \n",
       "3           3      5  I will always go to Champions. The owner Migue...   \n",
       "4           4      4  Deceptively vast. My one-star deduction is pri...   \n",
       "\n",
       "     target  \n",
       "0  Positive  \n",
       "1  Positive  \n",
       "2  Positive  \n",
       "3  Positive  \n",
       "4  Positive  "
      ]
     },
     "execution_count": 5,
     "metadata": {},
     "output_type": "execute_result"
    }
   ],
   "source": [
    "yelp_data.head()"
   ]
  },
  {
   "cell_type": "code",
   "execution_count": 6,
   "metadata": {
    "execution": {
     "iopub.execute_input": "2022-04-26T16:48:08.607374Z",
     "iopub.status.busy": "2022-04-26T16:48:08.607155Z",
     "iopub.status.idle": "2022-04-26T16:48:09.649377Z",
     "shell.execute_reply": "2022-04-26T16:48:09.648711Z",
     "shell.execute_reply.started": "2022-04-26T16:48:08.607350Z"
    }
   },
   "outputs": [
    {
     "data": {
      "text/plain": [
       "Text(0, 0.5, 'Number of Reviews')"
      ]
     },
     "execution_count": 6,
     "metadata": {},
     "output_type": "execute_result"
    },
    {
     "data": {
      "image/png": "[encoded data removed]",
      "text/plain": [
       "<Figure size 576x360 with 1 Axes>"
      ]
     },
     "metadata": {
      "needs_background": "light"
     },
     "output_type": "display_data"
    }
   ],
   "source": [
    "plot_df = yelp_data['target'].value_counts()\n",
    "plt.figure(figsize=(8,5))\n",
    "sns.barplot(x = np.array(plot_df.index), y = np.array(plot_df.values))\n",
    "plt.xlabel('Sentiments')\n",
    "plt.ylabel('Number of Reviews')"
   ]
  },
  {
   "cell_type": "code",
   "execution_count": 7,
   "metadata": {
    "execution": {
     "iopub.execute_input": "2022-04-26T16:48:09.651266Z",
     "iopub.status.busy": "2022-04-26T16:48:09.650865Z",
     "iopub.status.idle": "2022-04-26T16:48:09.660131Z",
     "shell.execute_reply": "2022-04-26T16:48:09.659453Z",
     "shell.execute_reply.started": "2022-04-26T16:48:09.651228Z"
    }
   },
   "outputs": [
    {
     "data": {
      "text/plain": [
       "('Review: ',\n",
       " \"Really enjoyed how clean the salon was. The nail technicians were very friendly and kind. They did an amazing job on my nails. I've tried several locations around carmel/Indy, this is my new favorite spot.\")"
      ]
     },
     "execution_count": 7,
     "metadata": {},
     "output_type": "execute_result"
    }
   ],
   "source": [
    "'Review: ', yelp_data['text'][0]"
   ]
  },
  {
   "cell_type": "code",
   "execution_count": 8,
   "metadata": {
    "execution": {
     "iopub.execute_input": "2022-04-26T16:48:09.661943Z",
     "iopub.status.busy": "2022-04-26T16:48:09.661648Z",
     "iopub.status.idle": "2022-04-26T16:48:09.685755Z",
     "shell.execute_reply": "2022-04-26T16:48:09.685111Z",
     "shell.execute_reply.started": "2022-04-26T16:48:09.661907Z"
    }
   },
   "outputs": [],
   "source": [
    "yelp_data = yelp_data.dropna()"
   ]
  },
  {
   "cell_type": "code",
   "execution_count": 9,
   "metadata": {
    "execution": {
     "iopub.execute_input": "2022-04-26T16:48:09.687762Z",
     "iopub.status.busy": "2022-04-26T16:48:09.687489Z",
     "iopub.status.idle": "2022-04-26T16:48:09.742650Z",
     "shell.execute_reply": "2022-04-26T16:48:09.741811Z",
     "shell.execute_reply.started": "2022-04-26T16:48:09.687728Z"
    }
   },
   "outputs": [],
   "source": [
    "yelp_data['text'] = yelp_data['text'].apply(str.lower)"
   ]
  },
  {
   "cell_type": "code",
   "execution_count": 10,
   "metadata": {
    "execution": {
     "iopub.execute_input": "2022-04-26T16:48:09.744398Z",
     "iopub.status.busy": "2022-04-26T16:48:09.744127Z",
     "iopub.status.idle": "2022-04-26T16:48:10.382611Z",
     "shell.execute_reply": "2022-04-26T16:48:10.381796Z",
     "shell.execute_reply.started": "2022-04-26T16:48:09.744357Z"
    }
   },
   "outputs": [],
   "source": [
    "stop_words = set(stopwords.words('english'))"
   ]
  },
  {
   "cell_type": "code",
   "execution_count": 11,
   "metadata": {
    "execution": {
     "iopub.execute_input": "2022-04-26T16:48:10.385495Z",
     "iopub.status.busy": "2022-04-26T16:48:10.384928Z",
     "iopub.status.idle": "2022-04-26T16:48:11.417867Z",
     "shell.execute_reply": "2022-04-26T16:48:11.417165Z",
     "shell.execute_reply.started": "2022-04-26T16:48:10.385428Z"
    }
   },
   "outputs": [],
   "source": [
    "yelp_data['text'] = yelp_data['text'].apply(lambda x: ' '.join([word for word in x.split() if word not in (stop_words)]))"
   ]
  },
  {
   "cell_type": "code",
   "execution_count": 12,
   "metadata": {
    "execution": {
     "iopub.execute_input": "2022-04-26T16:48:11.420450Z",
     "iopub.status.busy": "2022-04-26T16:48:11.420046Z",
     "iopub.status.idle": "2022-04-26T16:48:11.425329Z",
     "shell.execute_reply": "2022-04-26T16:48:11.424270Z",
     "shell.execute_reply.started": "2022-04-26T16:48:11.420415Z"
    }
   },
   "outputs": [],
   "source": [
    "def is_en_lang(s):\n",
    "    try:\n",
    "        s.encode(encoding='utf-8').decode('ascii')\n",
    "    except UnicodeDecodeError:\n",
    "        return False\n",
    "    else:\n",
    "        return True"
   ]
  },
  {
   "cell_type": "code",
   "execution_count": 13,
   "metadata": {
    "execution": {
     "iopub.execute_input": "2022-04-26T16:48:11.426947Z",
     "iopub.status.busy": "2022-04-26T16:48:11.426695Z",
     "iopub.status.idle": "2022-04-26T16:48:13.219668Z",
     "shell.execute_reply": "2022-04-26T16:48:13.218947Z",
     "shell.execute_reply.started": "2022-04-26T16:48:11.426912Z"
    }
   },
   "outputs": [],
   "source": [
    "yelp_data['text'] = yelp_data['text'].apply(lambda x: ' '.join([word for word in x.split() if is_en_lang(word)]))"
   ]
  },
  {
   "cell_type": "code",
   "execution_count": 14,
   "metadata": {
    "execution": {
     "iopub.execute_input": "2022-04-26T16:48:13.222090Z",
     "iopub.status.busy": "2022-04-26T16:48:13.221745Z",
     "iopub.status.idle": "2022-04-26T16:48:14.840593Z",
     "shell.execute_reply": "2022-04-26T16:48:14.839270Z",
     "shell.execute_reply.started": "2022-04-26T16:48:13.222050Z"
    }
   },
   "outputs": [],
   "source": [
    "tokenizer = nltk.RegexpTokenizer(r\"\\w+\")\n",
    "yelp_data['text'] = yelp_data['text'].apply(lambda x: ' '.join(tokenizer.tokenize(x)))"
   ]
  },
  {
   "cell_type": "code",
   "execution_count": 15,
   "metadata": {
    "execution": {
     "iopub.execute_input": "2022-04-26T16:48:14.842090Z",
     "iopub.status.busy": "2022-04-26T16:48:14.841840Z",
     "iopub.status.idle": "2022-04-26T16:48:15.436379Z",
     "shell.execute_reply": "2022-04-26T16:48:15.435662Z",
     "shell.execute_reply.started": "2022-04-26T16:48:14.842055Z"
    }
   },
   "outputs": [],
   "source": [
    "yelp_data['text'] = yelp_data['text'].apply(lambda x: ' '.join([word for word in x.split() if word.isalpha()]))"
   ]
  },
  {
   "cell_type": "code",
   "execution_count": 16,
   "metadata": {
    "execution": {
     "iopub.execute_input": "2022-04-26T16:48:15.438044Z",
     "iopub.status.busy": "2022-04-26T16:48:15.437712Z",
     "iopub.status.idle": "2022-04-26T16:48:16.239068Z",
     "shell.execute_reply": "2022-04-26T16:48:16.238153Z",
     "shell.execute_reply.started": "2022-04-26T16:48:15.438007Z"
    }
   },
   "outputs": [],
   "source": [
    "words = set(nltk.corpus.words.words())\n",
    "yelp_data['text'] = yelp_data['text'].apply(lambda x: ' '.join([word for word in x.split() if word in words]))"
   ]
  },
  {
   "cell_type": "code",
   "execution_count": 17,
   "metadata": {
    "execution": {
     "iopub.execute_input": "2022-04-26T16:48:16.240792Z",
     "iopub.status.busy": "2022-04-26T16:48:16.240510Z",
     "iopub.status.idle": "2022-04-26T16:48:16.249100Z",
     "shell.execute_reply": "2022-04-26T16:48:16.248231Z",
     "shell.execute_reply.started": "2022-04-26T16:48:16.240755Z"
    }
   },
   "outputs": [
    {
     "data": {
      "text/plain": [
       "('Review: ',\n",
       " 'really clean salon was nail friendly kind amazing job i tried several around indy new favorite spot')"
      ]
     },
     "execution_count": 17,
     "metadata": {},
     "output_type": "execute_result"
    }
   ],
   "source": [
    "'Review: ', yelp_data['text'][0]"
   ]
  },
  {
   "cell_type": "code",
   "execution_count": 18,
   "metadata": {
    "execution": {
     "iopub.execute_input": "2022-04-26T16:48:16.250971Z",
     "iopub.status.busy": "2022-04-26T16:48:16.250721Z",
     "iopub.status.idle": "2022-04-26T16:48:16.264092Z",
     "shell.execute_reply": "2022-04-26T16:48:16.263400Z",
     "shell.execute_reply.started": "2022-04-26T16:48:16.250936Z"
    }
   },
   "outputs": [
    {
     "data": {
      "text/html": [
       "<div>\n",
       "<style scoped>\n",
       "    .dataframe tbody tr th:only-of-type {\n",
       "        vertical-align: middle;\n",
       "    }\n",
       "\n",
       "    .dataframe tbody tr th {\n",
       "        vertical-align: top;\n",
       "    }\n",
       "\n",
       "    .dataframe thead th {\n",
       "        text-align: right;\n",
       "    }\n",
       "</style>\n",
       "<table border=\"1\" class=\"dataframe\">\n",
       "  <thead>\n",
       "    <tr style=\"text-align: right;\">\n",
       "      <th></th>\n",
       "      <th>Unnamed: 0</th>\n",
       "      <th>stars</th>\n",
       "      <th>text</th>\n",
       "      <th>target</th>\n",
       "    </tr>\n",
       "  </thead>\n",
       "  <tbody>\n",
       "    <tr>\n",
       "      <th>0</th>\n",
       "      <td>0</td>\n",
       "      <td>5</td>\n",
       "      <td>really clean salon was nail friendly kind amaz...</td>\n",
       "      <td>Positive</td>\n",
       "    </tr>\n",
       "    <tr>\n",
       "      <th>1</th>\n",
       "      <td>1</td>\n",
       "      <td>4</td>\n",
       "      <td>cold war motif family friendly wait staff nice...</td>\n",
       "      <td>Positive</td>\n",
       "    </tr>\n",
       "    <tr>\n",
       "      <th>2</th>\n",
       "      <td>2</td>\n",
       "      <td>5</td>\n",
       "      <td>can t say enough good purple pumpkin live main...</td>\n",
       "      <td>Positive</td>\n",
       "    </tr>\n",
       "    <tr>\n",
       "      <th>3</th>\n",
       "      <td>3</td>\n",
       "      <td>5</td>\n",
       "      <td>always go owner awesome spend much time give c...</td>\n",
       "      <td>Positive</td>\n",
       "    </tr>\n",
       "    <tr>\n",
       "      <th>4</th>\n",
       "      <td>4</td>\n",
       "      <td>4</td>\n",
       "      <td>deceptively vast one star deduction primarily ...</td>\n",
       "      <td>Positive</td>\n",
       "    </tr>\n",
       "  </tbody>\n",
       "</table>\n",
       "</div>"
      ],
      "text/plain": [
       "   Unnamed: 0  stars                                               text  \\\n",
       "0           0      5  really clean salon was nail friendly kind amaz...   \n",
       "1           1      4  cold war motif family friendly wait staff nice...   \n",
       "2           2      5  can t say enough good purple pumpkin live main...   \n",
       "3           3      5  always go owner awesome spend much time give c...   \n",
       "4           4      4  deceptively vast one star deduction primarily ...   \n",
       "\n",
       "     target  \n",
       "0  Positive  \n",
       "1  Positive  \n",
       "2  Positive  \n",
       "3  Positive  \n",
       "4  Positive  "
      ]
     },
     "execution_count": 18,
     "metadata": {},
     "output_type": "execute_result"
    }
   ],
   "source": [
    "yelp_data.head()"
   ]
  },
  {
   "cell_type": "code",
   "execution_count": 19,
   "metadata": {
    "execution": {
     "iopub.execute_input": "2022-04-26T16:48:16.265746Z",
     "iopub.status.busy": "2022-04-26T16:48:16.265487Z",
     "iopub.status.idle": "2022-04-26T16:48:16.272528Z",
     "shell.execute_reply": "2022-04-26T16:48:16.271902Z",
     "shell.execute_reply.started": "2022-04-26T16:48:16.265712Z"
    }
   },
   "outputs": [
    {
     "data": {
      "text/plain": [
       "5    17324\n",
       "1    16508\n",
       "2     8492\n",
       "4     7676\n",
       "Name: stars, dtype: int64"
      ]
     },
     "execution_count": 19,
     "metadata": {},
     "output_type": "execute_result"
    }
   ],
   "source": [
    "yelp_data.stars.value_counts()"
   ]
  },
  {
   "cell_type": "code",
   "execution_count": 20,
   "metadata": {
    "execution": {
     "iopub.execute_input": "2022-04-26T16:48:16.274304Z",
     "iopub.status.busy": "2022-04-26T16:48:16.273805Z",
     "iopub.status.idle": "2022-04-26T16:48:16.280184Z",
     "shell.execute_reply": "2022-04-26T16:48:16.279565Z",
     "shell.execute_reply.started": "2022-04-26T16:48:16.274269Z"
    }
   },
   "outputs": [],
   "source": [
    "X = yelp_data['text']\n",
    "y = yelp_data['target'].to_numpy()"
   ]
  },
  {
   "cell_type": "code",
   "execution_count": 21,
   "metadata": {
    "execution": {
     "iopub.execute_input": "2022-04-26T16:48:16.282385Z",
     "iopub.status.busy": "2022-04-26T16:48:16.281879Z",
     "iopub.status.idle": "2022-04-26T16:48:16.306746Z",
     "shell.execute_reply": "2022-04-26T16:48:16.305952Z",
     "shell.execute_reply.started": "2022-04-26T16:48:16.282348Z"
    }
   },
   "outputs": [],
   "source": [
    "one_hot_encoder = OneHotEncoder().fit(y.reshape(-1, 1))\n",
    "y_onehot = one_hot_encoder.transform(y.reshape(-1, 1)).toarray()"
   ]
  },
  {
   "cell_type": "code",
   "execution_count": 22,
   "metadata": {
    "execution": {
     "iopub.execute_input": "2022-04-26T16:48:16.326809Z",
     "iopub.status.busy": "2022-04-26T16:48:16.326422Z",
     "iopub.status.idle": "2022-04-26T16:48:16.634287Z",
     "shell.execute_reply": "2022-04-26T16:48:16.633521Z",
     "shell.execute_reply.started": "2022-04-26T16:48:16.326780Z"
    }
   },
   "outputs": [],
   "source": [
    "X_train, X_test, y_train, y_test = train_test_split(X, y_onehot, test_size=0.3, random_state=16, stratify=y_onehot)"
   ]
  },
  {
   "cell_type": "code",
   "execution_count": 23,
   "metadata": {
    "execution": {
     "iopub.execute_input": "2022-04-26T16:48:16.636061Z",
     "iopub.status.busy": "2022-04-26T16:48:16.635792Z",
     "iopub.status.idle": "2022-04-26T16:48:16.642060Z",
     "shell.execute_reply": "2022-04-26T16:48:16.641317Z",
     "shell.execute_reply.started": "2022-04-26T16:48:16.636025Z"
    }
   },
   "outputs": [
    {
     "data": {
      "text/plain": [
       "((35000,), (15000,), (35000, 2), (15000, 2))"
      ]
     },
     "execution_count": 23,
     "metadata": {},
     "output_type": "execute_result"
    }
   ],
   "source": [
    "X_train.shape, X_test.shape, y_train.shape, y_test.shape"
   ]
  },
  {
   "cell_type": "code",
   "execution_count": 24,
   "metadata": {
    "execution": {
     "iopub.execute_input": "2022-04-26T16:48:16.644234Z",
     "iopub.status.busy": "2022-04-26T16:48:16.643660Z",
     "iopub.status.idle": "2022-04-26T16:48:16.848771Z",
     "shell.execute_reply": "2022-04-26T16:48:16.848096Z",
     "shell.execute_reply.started": "2022-04-26T16:48:16.644168Z"
    }
   },
   "outputs": [
    {
     "data": {
      "text/plain": [
       "Text(0, 0.5, 'Number of Reviews')"
      ]
     },
     "execution_count": 24,
     "metadata": {},
     "output_type": "execute_result"
    },
    {
     "data": {
      "image/png": "[encoded data removed]",
      "text/plain": [
       "<Figure size 576x360 with 1 Axes>"
      ]
     },
     "metadata": {
      "needs_background": "light"
     },
     "output_type": "display_data"
    }
   ],
   "source": [
    "plot_df = pd.DataFrame(y_train).value_counts()\n",
    "plt.figure(figsize=(8,5))\n",
    "sns.barplot(x = np.array(plot_df.index), y = np.array(plot_df.values))\n",
    "plt.xlabel('Sentiments')\n",
    "plt.ylabel('Number of Reviews')"
   ]
  },
  {
   "cell_type": "code",
   "execution_count": 25,
   "metadata": {
    "execution": {
     "iopub.execute_input": "2022-04-26T16:48:16.851823Z",
     "iopub.status.busy": "2022-04-26T16:48:16.851636Z",
     "iopub.status.idle": "2022-04-26T16:48:16.857507Z",
     "shell.execute_reply": "2022-04-26T16:48:16.856777Z",
     "shell.execute_reply.started": "2022-04-26T16:48:16.851799Z"
    }
   },
   "outputs": [],
   "source": [
    "vocab_size = 20000\n",
    "max_length = 100\n",
    "embedding_dim = 10000"
   ]
  },
  {
   "cell_type": "code",
   "execution_count": 26,
   "metadata": {
    "execution": {
     "iopub.execute_input": "2022-04-26T16:48:16.862432Z",
     "iopub.status.busy": "2022-04-26T16:48:16.858910Z",
     "iopub.status.idle": "2022-04-26T16:48:24.195628Z",
     "shell.execute_reply": "2022-04-26T16:48:24.194823Z",
     "shell.execute_reply.started": "2022-04-26T16:48:16.862404Z"
    }
   },
   "outputs": [],
   "source": [
    "tokenizer = Tokenizer(num_words=vocab_size)\n",
    "tokenizer.fit_on_texts(X_train)\n",
    "X_train_sequences = tokenizer.texts_to_sequences(X_train) "
   ]
  },
  {
   "cell_type": "code",
   "execution_count": 27,
   "metadata": {
    "execution": {
     "iopub.execute_input": "2022-04-26T16:48:24.197203Z",
     "iopub.status.busy": "2022-04-26T16:48:24.196964Z",
     "iopub.status.idle": "2022-04-26T16:48:24.470723Z",
     "shell.execute_reply": "2022-04-26T16:48:24.470011Z",
     "shell.execute_reply.started": "2022-04-26T16:48:24.197170Z"
    }
   },
   "outputs": [],
   "source": [
    "X_train_pad = pad_sequences(X_train_sequences, maxlen=max_length)"
   ]
  },
  {
   "cell_type": "code",
   "execution_count": 28,
   "metadata": {
    "execution": {
     "iopub.execute_input": "2022-04-26T16:48:24.472295Z",
     "iopub.status.busy": "2022-04-26T16:48:24.472030Z",
     "iopub.status.idle": "2022-04-26T16:48:24.476812Z",
     "shell.execute_reply": "2022-04-26T16:48:24.475959Z",
     "shell.execute_reply.started": "2022-04-26T16:48:24.472258Z"
    }
   },
   "outputs": [],
   "source": [
    "y_train_int = y_train.astype(\"int\")"
   ]
  },
  {
   "cell_type": "code",
   "execution_count": 29,
   "metadata": {
    "execution": {
     "iopub.execute_input": "2022-04-26T16:48:24.478495Z",
     "iopub.status.busy": "2022-04-26T16:48:24.478238Z",
     "iopub.status.idle": "2022-04-26T16:48:24.486889Z",
     "shell.execute_reply": "2022-04-26T16:48:24.486153Z",
     "shell.execute_reply.started": "2022-04-26T16:48:24.478460Z"
    }
   },
   "outputs": [
    {
     "name": "stdout",
     "output_type": "stream",
     "text": [
      "Shape of data: (35000, 100)\n",
      "Shape of labels: (35000, 2)\n"
     ]
    }
   ],
   "source": [
    "print('Shape of data:', X_train_pad.shape)\n",
    "print('Shape of labels:', y_train_int.shape)"
   ]
  },
  {
   "cell_type": "code",
   "execution_count": 31,
   "metadata": {
    "execution": {
     "iopub.execute_input": "2022-04-26T16:48:24.990902Z",
     "iopub.status.busy": "2022-04-26T16:48:24.990707Z",
     "iopub.status.idle": "2022-04-26T16:48:27.883462Z",
     "shell.execute_reply": "2022-04-26T16:48:27.882786Z",
     "shell.execute_reply.started": "2022-04-26T16:48:24.990877Z"
    }
   },
   "outputs": [
    {
     "name": "stderr",
     "output_type": "stream",
     "text": [
      "2022-04-26 16:48:25.074089: I tensorflow/stream_executor/cuda/cuda_gpu_executor.cc:937] successful NUMA node read from SysFS had negative value (-1), but there must be at least one NUMA node, so returning NUMA node zero\n",
      "2022-04-26 16:48:25.172934: I tensorflow/stream_executor/cuda/cuda_gpu_executor.cc:937] successful NUMA node read from SysFS had negative value (-1), but there must be at least one NUMA node, so returning NUMA node zero\n",
      "2022-04-26 16:48:25.173704: I tensorflow/stream_executor/cuda/cuda_gpu_executor.cc:937] successful NUMA node read from SysFS had negative value (-1), but there must be at least one NUMA node, so returning NUMA node zero\n",
      "2022-04-26 16:48:25.174807: I tensorflow/core/platform/cpu_feature_guard.cc:142] This TensorFlow binary is optimized with oneAPI Deep Neural Network Library (oneDNN) to use the following CPU instructions in performance-critical operations:  AVX2 AVX512F FMA\n",
      "To enable them in other operations, rebuild TensorFlow with the appropriate compiler flags.\n",
      "2022-04-26 16:48:25.176078: I tensorflow/stream_executor/cuda/cuda_gpu_executor.cc:937] successful NUMA node read from SysFS had negative value (-1), but there must be at least one NUMA node, so returning NUMA node zero\n",
      "2022-04-26 16:48:25.176780: I tensorflow/stream_executor/cuda/cuda_gpu_executor.cc:937] successful NUMA node read from SysFS had negative value (-1), but there must be at least one NUMA node, so returning NUMA node zero\n",
      "2022-04-26 16:48:25.177431: I tensorflow/stream_executor/cuda/cuda_gpu_executor.cc:937] successful NUMA node read from SysFS had negative value (-1), but there must be at least one NUMA node, so returning NUMA node zero\n",
      "2022-04-26 16:48:27.047229: I tensorflow/stream_executor/cuda/cuda_gpu_executor.cc:937] successful NUMA node read from SysFS had negative value (-1), but there must be at least one NUMA node, so returning NUMA node zero\n",
      "2022-04-26 16:48:27.048227: I tensorflow/stream_executor/cuda/cuda_gpu_executor.cc:937] successful NUMA node read from SysFS had negative value (-1), but there must be at least one NUMA node, so returning NUMA node zero\n",
      "2022-04-26 16:48:27.048995: I tensorflow/stream_executor/cuda/cuda_gpu_executor.cc:937] successful NUMA node read from SysFS had negative value (-1), but there must be at least one NUMA node, so returning NUMA node zero\n",
      "2022-04-26 16:48:27.049695: I tensorflow/core/common_runtime/gpu/gpu_device.cc:1510] Created device /job:localhost/replica:0/task:0/device:GPU:0 with 15403 MB memory:  -> device: 0, name: Tesla P100-PCIE-16GB, pci bus id: 0000:00:04.0, compute capability: 6.0\n"
     ]
    },
    {
     "name": "stdout",
     "output_type": "stream",
     "text": [
      "Model: \"sequential\"\n",
      "_________________________________________________________________\n",
      "Layer (type)                 Output Shape              Param #   \n",
      "=================================================================\n",
      "embedding (Embedding)        (None, 100, 10000)        200000000 \n",
      "_________________________________________________________________\n",
      "bidirectional (Bidirectional (None, 8)                 320160    \n",
      "_________________________________________________________________\n",
      "dropout (Dropout)            (None, 8)                 0         \n",
      "_________________________________________________________________\n",
      "flatten (Flatten)            (None, 8)                 0         \n",
      "_________________________________________________________________\n",
      "dense (Dense)                (None, 4)                 36        \n",
      "_________________________________________________________________\n",
      "dropout_1 (Dropout)          (None, 4)                 0         \n",
      "_________________________________________________________________\n",
      "dense_1 (Dense)              (None, 2)                 10        \n",
      "=================================================================\n",
      "Total params: 200,320,206\n",
      "Trainable params: 200,320,206\n",
      "Non-trainable params: 0\n",
      "_________________________________________________________________\n"
     ]
    }
   ],
   "source": [
    "model3 = Sequential()\n",
    "model3.add(Embedding(input_dim=vocab_size, \n",
    "                           output_dim=embedding_dim, \n",
    "                           input_length=max_length))\n",
    "\n",
    "model3.add(Bidirectional(LSTM(4)))\n",
    "model3.add(Dropout(0.3))\n",
    "model3.add(Flatten())\n",
    "\n",
    "model3.add(Dense(4,activation='elu'))\n",
    "model3.add(Dropout(0.5))\n",
    "\n",
    "model3.add(Dense(2, activation='softmax'))\n",
    "\n",
    "model3.compile(optimizer='adam',\n",
    "              loss='categorical_crossentropy',\n",
    "              metrics=['accuracy'])\n",
    "model3.summary()"
   ]
  },
  {
   "cell_type": "code",
   "execution_count": 32,
   "metadata": {
    "execution": {
     "iopub.execute_input": "2022-04-26T16:48:27.886279Z",
     "iopub.status.busy": "2022-04-26T16:48:27.886070Z",
     "iopub.status.idle": "2022-04-26T16:48:27.891098Z",
     "shell.execute_reply": "2022-04-26T16:48:27.890364Z",
     "shell.execute_reply.started": "2022-04-26T16:48:27.886252Z"
    }
   },
   "outputs": [],
   "source": [
    "es_callback = tf.keras.callbacks.EarlyStopping(monitor='val_loss', patience=0)"
   ]
  },
  {
   "cell_type": "code",
   "execution_count": 33,
   "metadata": {
    "execution": {
     "iopub.execute_input": "2022-04-26T16:48:27.893060Z",
     "iopub.status.busy": "2022-04-26T16:48:27.892551Z",
     "iopub.status.idle": "2022-04-26T16:53:52.205167Z",
     "shell.execute_reply": "2022-04-26T16:53:52.204352Z",
     "shell.execute_reply.started": "2022-04-26T16:48:27.893023Z"
    }
   },
   "outputs": [
    {
     "name": "stdout",
     "output_type": "stream",
     "text": [
      "Epoch 1/5\n"
     ]
    },
    {
     "name": "stderr",
     "output_type": "stream",
     "text": [
      "2022-04-26 16:48:27.949335: I tensorflow/compiler/mlir/mlir_graph_optimization_pass.cc:185] None of the MLIR Optimization Passes are enabled (registered 2)\n",
      "2022-04-26 16:48:31.034876: I tensorflow/stream_executor/cuda/cuda_dnn.cc:369] Loaded cuDNN version 8005\n"
     ]
    },
    {
     "name": "stdout",
     "output_type": "stream",
     "text": [
      "733/733 [==============================] - 60s 77ms/step - loss: 0.4247 - accuracy: 0.8172 - val_loss: 0.2736 - val_accuracy: 0.8959\n",
      "Epoch 2/5\n",
      "733/733 [==============================] - 55s 75ms/step - loss: 0.2825 - accuracy: 0.8909 - val_loss: 0.2732 - val_accuracy: 0.8976\n",
      "Epoch 3/5\n",
      "733/733 [==============================] - 55s 76ms/step - loss: 0.2429 - accuracy: 0.9077 - val_loss: 0.2916 - val_accuracy: 0.8950\n",
      "Epoch 4/5\n",
      "733/733 [==============================] - 55s 76ms/step - loss: 0.2091 - accuracy: 0.9177 - val_loss: 0.2988 - val_accuracy: 0.8961\n",
      "Epoch 5/5\n",
      "733/733 [==============================] - 55s 76ms/step - loss: 0.2070 - accuracy: 0.9200 - val_loss: 0.3078 - val_accuracy: 0.8975\n"
     ]
    }
   ],
   "source": [
    "hist3 = model3.fit(X_train_pad, y_train_int,\n",
    "                    epochs=5,\n",
    "                    verbose=True,\n",
    "                    validation_split=0.33)"
   ]
  },
  {
   "cell_type": "code",
   "execution_count": 34,
   "metadata": {
    "execution": {
     "iopub.execute_input": "2022-04-26T16:53:52.207321Z",
     "iopub.status.busy": "2022-04-26T16:53:52.206952Z",
     "iopub.status.idle": "2022-04-26T16:53:52.781504Z",
     "shell.execute_reply": "2022-04-26T16:53:52.780768Z",
     "shell.execute_reply.started": "2022-04-26T16:53:52.207274Z"
    }
   },
   "outputs": [],
   "source": [
    "X_test_sequences = tokenizer.texts_to_sequences(X_test) \n",
    "X_test_pad = pad_sequences(X_test_sequences, maxlen=max_length)\n",
    "y_test_int = y_test.astype(\"int\")"
   ]
  },
  {
   "cell_type": "code",
   "execution_count": 35,
   "metadata": {
    "execution": {
     "iopub.execute_input": "2022-04-26T16:53:52.782965Z",
     "iopub.status.busy": "2022-04-26T16:53:52.782732Z",
     "iopub.status.idle": "2022-04-26T16:53:58.537545Z",
     "shell.execute_reply": "2022-04-26T16:53:58.536860Z",
     "shell.execute_reply.started": "2022-04-26T16:53:52.782933Z"
    }
   },
   "outputs": [
    {
     "name": "stdout",
     "output_type": "stream",
     "text": [
      "Evaluate on test data\n",
      "469/469 [==============================] - 6s 12ms/step - loss: 0.3090 - accuracy: 0.8971\n",
      "test loss, test acc: [0.3089860677719116, 0.8971333503723145]\n"
     ]
    }
   ],
   "source": [
    "print(\"Evaluate on test data\")\n",
    "results = model3.evaluate(X_test_pad, y_test_int)\n",
    "print(\"test loss, test acc:\", results)"
   ]
  },
  {
   "cell_type": "code",
   "execution_count": 36,
   "metadata": {
    "execution": {
     "iopub.execute_input": "2022-04-26T16:53:58.539044Z",
     "iopub.status.busy": "2022-04-26T16:53:58.538716Z",
     "iopub.status.idle": "2022-04-26T16:54:04.184120Z",
     "shell.execute_reply": "2022-04-26T16:54:04.183357Z",
     "shell.execute_reply.started": "2022-04-26T16:53:58.539004Z"
    }
   },
   "outputs": [],
   "source": [
    "y_pred = model3.predict(X_test_pad)"
   ]
  },
  {
   "cell_type": "code",
   "execution_count": 38,
   "metadata": {
    "execution": {
     "iopub.execute_input": "2022-04-26T16:54:04.192806Z",
     "iopub.status.busy": "2022-04-26T16:54:04.192433Z",
     "iopub.status.idle": "2022-04-26T16:54:04.208388Z",
     "shell.execute_reply": "2022-04-26T16:54:04.207616Z",
     "shell.execute_reply.started": "2022-04-26T16:54:04.192768Z"
    }
   },
   "outputs": [
    {
     "data": {
      "text/plain": [
       "array([[6802,  698],\n",
       "       [ 845, 6655]])"
      ]
     },
     "execution_count": 38,
     "metadata": {},
     "output_type": "execute_result"
    }
   ],
   "source": [
    "matrix = confusion_matrix(y_test_int.argmax(axis=1), y_pred.argmax(axis=1))\n",
    "matrix"
   ]
  },
  {
   "cell_type": "code",
   "execution_count": 39,
   "metadata": {
    "execution": {
     "iopub.execute_input": "2022-04-26T16:54:04.209950Z",
     "iopub.status.busy": "2022-04-26T16:54:04.209700Z",
     "iopub.status.idle": "2022-04-26T16:54:04.255320Z",
     "shell.execute_reply": "2022-04-26T16:54:04.254602Z",
     "shell.execute_reply.started": "2022-04-26T16:54:04.209916Z"
    }
   },
   "outputs": [
    {
     "name": "stdout",
     "output_type": "stream",
     "text": [
      "Precision Score:  0.8972859547056931\n",
      "Recall Score:  0.8971333333333333\n",
      "F1 Score:  0.8971234530697662\n",
      "Accuracy Score:  0.8971333333333333\n"
     ]
    }
   ],
   "source": [
    "print('Precision Score: ', precision_score(y_test_int.argmax(axis=1), y_pred.argmax(axis=1), average=\"macro\"))\n",
    "print('Recall Score: ', recall_score(y_test_int.argmax(axis=1), y_pred.argmax(axis=1), average='macro'))\n",
    "print('F1 Score: ',f1_score(y_test_int.argmax(axis=1), y_pred.argmax(axis=1), average='macro'))\n",
    "print('Accuracy Score: ',accuracy_score(y_test_int.argmax(axis=1), y_pred.argmax(axis=1)))"
   ]
  },
  {
   "cell_type": "code",
   "execution_count": null,
   "metadata": {},
   "outputs": [],
   "source": []
  }
 ],
 "metadata": {
  "kernelspec": {
   "display_name": "Python 3 (ipykernel)",
   "language": "python",
   "name": "python3"
  },
  "language_info": {
   "codemirror_mode": {
    "name": "ipython",
    "version": 3
   },
   "file_extension": ".py",
   "mimetype": "text/x-python",
   "name": "python",
   "nbconvert_exporter": "python",
   "pygments_lexer": "ipython3",
   "version": "3.9.7"
  }
 },
 "nbformat": 4,
 "nbformat_minor": 4
}
